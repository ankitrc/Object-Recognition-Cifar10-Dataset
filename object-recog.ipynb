{
  "nbformat": 4,
  "nbformat_minor": 0,
  "metadata": {
    "colab": {
      "name": "CIFARFINAL.ipynb",
      "version": "0.3.2",
      "provenance": []
    },
    "kernelspec": {
      "name": "python3",
      "display_name": "Python 3"
    },
    "accelerator": "GPU"
  },
  "cells": [
    {
      "cell_type": "code",
      "metadata": {
        "id": "viQGRKLGWfNl",
        "colab_type": "code",
        "colab": {}
      },
      "source": [
        "import numpy as np\n",
        "from keras.models import Sequential\n",
        "from keras.optimizers import Adam, SGD\n",
        "from keras.models import load_model\n",
        "from keras.layers import GlobalAveragePooling2D, Lambda, Conv2D, MaxPooling2D, Dropout, Dense, Flatten, Activation, Convolution2D\n",
        "from keras.preprocessing.image import ImageDataGenerator\n",
        "from keras.datasets import cifar10\n",
        "from keras.utils import np_utils\n",
        "\n"
      ],
      "execution_count": 0,
      "outputs": []
    },
    {
      "cell_type": "code",
      "metadata": {
        "id": "nAKaSfGTxJ6h",
        "colab_type": "code",
        "colab": {}
      },
      "source": [
        "IMAGE_SIZE = 32\n",
        "CHANNELS = 3\n",
        "NUM_EPOCH = 400\n",
        "LEARN_RATE = 1.0e-4\n"
      ],
      "execution_count": 0,
      "outputs": []
    },
    {
      "cell_type": "code",
      "metadata": {
        "id": "HW5CbCuYxNvK",
        "colab_type": "code",
        "outputId": "3834ce6b-7667-4db6-cf56-7bc10c0b6dbb",
        "colab": {
          "base_uri": "https://localhost:8080/",
          "height": 34
        }
      },
      "source": [
        "# load training and testing data\n",
        "(x_train, y_train), (x_test, y_test) = cifar10.load_data()\n",
        "x_train = x_train.astype('float32') / 255\n",
        "x_test = x_test.astype('float32') / 255\n",
        "x_train.shape"
      ],
      "execution_count": 0,
      "outputs": [
        {
          "output_type": "execute_result",
          "data": {
            "text/plain": [
              "(50000, 32, 32, 3)"
            ]
          },
          "metadata": {
            "tags": []
          },
          "execution_count": 22
        }
      ]
    },
    {
      "cell_type": "code",
      "metadata": {
        "id": "mZWyT7uGxR1N",
        "colab_type": "code",
        "outputId": "8c2d4668-e718-4d02-cce9-4028f87f0252",
        "colab": {
          "base_uri": "https://localhost:8080/",
          "height": 34
        }
      },
      "source": [
        "# number of classes\n",
        "num_classes = len(np.unique(y_train))\n",
        "num_classes"
      ],
      "execution_count": 0,
      "outputs": [
        {
          "output_type": "execute_result",
          "data": {
            "text/plain": [
              "10"
            ]
          },
          "metadata": {
            "tags": []
          },
          "execution_count": 23
        }
      ]
    },
    {
      "cell_type": "code",
      "metadata": {
        "id": "LB7U1iSVD-U0",
        "colab_type": "code",
        "colab": {}
      },
      "source": [
        "# CNN model for image classification\n",
        "def cnn_model_1():\n",
        "    model = Sequential()\n",
        "    model.add(Convolution2D(filters=96, kernel_size=3, activation='relu', padding = 'same', input_shape=(IMAGE_SIZE,IMAGE_SIZE,CHANNELS)))    \n",
        "    model.add(Dropout(0.2))\n",
        "  \n",
        "    model.add(Convolution2D(filters=96, kernel_size=3, activation='relu', padding = 'same', strides=2))  \n",
        "    model.add(Convolution2D(filters=96, kernel_size=3, activation='relu', padding = 'same'))  \n",
        "    model.add(Dropout(0.5))\n",
        "    \n",
        "        \n",
        "    model.add(Convolution2D(filters=192, kernel_size=3, activation='relu', padding = 'same'))    \n",
        "    model.add(Convolution2D(filters=192, kernel_size=3, activation='relu', padding = 'same'))\n",
        "    model.add(Convolution2D(filters=192, kernel_size=3, activation='relu', padding = 'same', strides = 2))    \n",
        "    model.add(Dropout(0.5))\n",
        "    \n",
        "    model.add(Convolution2D(filters=192, kernel_size=3, activation='relu', padding = 'same'))\n",
        "    model.add(Convolution2D(filters=192, kernel_size = 1,padding='valid'))\n",
        "    model.add(Convolution2D(filters=10, kernel_size = 1, padding='valid'))\n",
        "\n",
        "    model.add(GlobalAveragePooling2D())\n",
        "    \n",
        "    model.add(Activation('softmax'))\n",
        "\n",
        "    model.summary()\n",
        "    \n",
        "    return model\n",
        "  "
      ],
      "execution_count": 0,
      "outputs": []
    },
    {
      "cell_type": "code",
      "metadata": {
        "id": "JUyQ3u2vWjVk",
        "colab_type": "code",
        "colab": {}
      },
      "source": [
        "# one hot encoding for labels\n",
        "y_train = np_utils.to_categorical(y_train, num_classes=num_classes)\n",
        "y_test = np_utils.to_categorical(y_test, num_classes=num_classes)"
      ],
      "execution_count": 0,
      "outputs": []
    },
    {
      "cell_type": "code",
      "metadata": {
        "id": "_v_HaIvTxMiK",
        "colab_type": "code",
        "outputId": "07efef50-67db-4f6c-8f32-79451580ce8a",
        "colab": {
          "base_uri": "https://localhost:8080/",
          "height": 34
        }
      },
      "source": [
        "y_train[1]\n"
      ],
      "execution_count": 0,
      "outputs": [
        {
          "output_type": "execute_result",
          "data": {
            "text/plain": [
              "array([0., 0., 0., 0., 0., 0., 0., 0., 0., 1.], dtype=float32)"
            ]
          },
          "metadata": {
            "tags": []
          },
          "execution_count": 26
        }
      ]
    },
    {
      "cell_type": "code",
      "metadata": {
        "id": "LMW3scF2u11v",
        "colab_type": "code",
        "outputId": "6510ef77-d0f3-435e-f7ff-234112dda205",
        "colab": {
          "base_uri": "https://localhost:8080/",
          "height": 625
        }
      },
      "source": [
        "model = cnn_model_1()"
      ],
      "execution_count": 0,
      "outputs": [
        {
          "output_type": "stream",
          "text": [
            "_________________________________________________________________\n",
            "Layer (type)                 Output Shape              Param #   \n",
            "=================================================================\n",
            "conv2d_19 (Conv2D)           (None, 32, 32, 96)        2688      \n",
            "_________________________________________________________________\n",
            "dropout_7 (Dropout)          (None, 32, 32, 96)        0         \n",
            "_________________________________________________________________\n",
            "conv2d_20 (Conv2D)           (None, 16, 16, 96)        83040     \n",
            "_________________________________________________________________\n",
            "conv2d_21 (Conv2D)           (None, 16, 16, 96)        83040     \n",
            "_________________________________________________________________\n",
            "dropout_8 (Dropout)          (None, 16, 16, 96)        0         \n",
            "_________________________________________________________________\n",
            "conv2d_22 (Conv2D)           (None, 16, 16, 192)       166080    \n",
            "_________________________________________________________________\n",
            "conv2d_23 (Conv2D)           (None, 16, 16, 192)       331968    \n",
            "_________________________________________________________________\n",
            "conv2d_24 (Conv2D)           (None, 8, 8, 192)         331968    \n",
            "_________________________________________________________________\n",
            "dropout_9 (Dropout)          (None, 8, 8, 192)         0         \n",
            "_________________________________________________________________\n",
            "conv2d_25 (Conv2D)           (None, 8, 8, 192)         331968    \n",
            "_________________________________________________________________\n",
            "conv2d_26 (Conv2D)           (None, 8, 8, 192)         37056     \n",
            "_________________________________________________________________\n",
            "conv2d_27 (Conv2D)           (None, 8, 8, 10)          1930      \n",
            "_________________________________________________________________\n",
            "global_average_pooling2d_3 ( (None, 10)                0         \n",
            "_________________________________________________________________\n",
            "activation_3 (Activation)    (None, 10)                0         \n",
            "=================================================================\n",
            "Total params: 1,369,738\n",
            "Trainable params: 1,369,738\n",
            "Non-trainable params: 0\n",
            "_________________________________________________________________\n"
          ],
          "name": "stdout"
        }
      ]
    },
    {
      "cell_type": "code",
      "metadata": {
        "id": "TuO86WjDvJYa",
        "colab_type": "code",
        "colab": {}
      },
      "source": [
        "model.compile(loss='categorical_crossentropy',\n",
        "              optimizer=Adam(lr=LEARN_RATE),\n",
        "              metrics = ['accuracy']) "
      ],
      "execution_count": 0,
      "outputs": []
    },
    {
      "cell_type": "code",
      "metadata": {
        "id": "LiZW9Sqvvy2Z",
        "colab_type": "code",
        "outputId": "0bd77044-3738-4c79-d269-2f7615c94d87",
        "colab": {
          "base_uri": "https://localhost:8080/",
          "height": 34
        }
      },
      "source": [
        "model.fit(x_train, y_train,\n",
        "                    batch_size = 128,\n",
        "                    epochs = NUM_EPOCH,\n",
        "                    validation_data= (x_test, y_test),\n",
        "                    verbose=0)"
      ],
      "execution_count": 0,
      "outputs": [
        {
          "output_type": "execute_result",
          "data": {
            "text/plain": [
              "<keras.callbacks.History at 0x7fdcc1780b38>"
            ]
          },
          "metadata": {
            "tags": []
          },
          "execution_count": 29
        }
      ]
    },
    {
      "cell_type": "code",
      "metadata": {
        "id": "ZoyEFkFPygiG",
        "colab_type": "code",
        "outputId": "b7520a79-f8d1-4321-94f9-be46273efb5e",
        "colab": {
          "base_uri": "https://localhost:8080/",
          "height": 34
        }
      },
      "source": [
        "acc = model.evaluate(x_test, y_test, batch_size=128, verbose=1)"
      ],
      "execution_count": 0,
      "outputs": [
        {
          "output_type": "stream",
          "text": [
            "10000/10000 [==============================] - 1s 114us/step\n"
          ],
          "name": "stdout"
        }
      ]
    },
    {
      "cell_type": "code",
      "metadata": {
        "id": "dLnYAYu-zHwu",
        "colab_type": "code",
        "outputId": "6dbf90fa-aa88-4945-d744-97bce6461aa2",
        "colab": {
          "base_uri": "https://localhost:8080/",
          "height": 34
        }
      },
      "source": [
        "acc"
      ],
      "execution_count": 0,
      "outputs": [
        {
          "output_type": "execute_result",
          "data": {
            "text/plain": [
              "[0.6639529120445251, 0.8582]"
            ]
          },
          "metadata": {
            "tags": []
          },
          "execution_count": 31
        }
      ]
    },
    {
      "cell_type": "code",
      "metadata": {
        "id": "1BcEfmzQyk__",
        "colab_type": "code",
        "colab": {}
      },
      "source": [
        ""
      ],
      "execution_count": 0,
      "outputs": []
    }
  ]
}